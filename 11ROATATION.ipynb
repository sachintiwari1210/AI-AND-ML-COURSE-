{
 "cells": [
  {
   "cell_type": "code",
   "execution_count": null,
   "id": "ed87fd01-5b63-4234-8152-2638c1d85946",
   "metadata": {},
   "outputs": [],
   "source": [
    "import cv2\n",
    "# Load the image \n",
    "image = cv2.imread(\"images/lenna.png\")\n",
    "\n",
    "# Flip the image Horizontal\n",
    "flipped_horizontal = cv2.flip(image, 0)  \n",
    "\n",
    "# Flip the image vertically\n",
    "flipped_vertical = cv2.flip(image, 1)\n",
    "\n",
    "# Flip the image diagonally\n",
    "flipped_diagonal = cv2.flip(image, -1)\n",
    "\n",
    "# show the flipped images\n",
    "cv2.imshow(\"Original\", image)\n",
    "cv2.imshow(\"Horizontal Flip\", flipped_horizontal)\n",
    "cv2.imshow(\"Vertical Flip\", flipped_vertical)\n",
    "cv2.imshow(\"Diagonal Flip\", flipped_diagonal)\n",
    "cv2.imshow(\"Diagonal Flip\", flipped_diagonal)\n",
    "cv2.waitKey(0)\n",
    "cv2.destroyAllWindows()"
   ]
  },
  {
   "cell_type": "code",
   "execution_count": null,
   "id": "6bbcc87c-aa64-473e-8bbf-67523d446a62",
   "metadata": {},
   "outputs": [],
   "source": [
    "import matplotlib.pyplot as plt\n",
    "import numpy as np"
   ]
  },
  {
   "cell_type": "code",
   "execution_count": null,
   "id": "2f55498c-bd3a-44cc-86d7-12e559c197b5",
   "metadata": {},
   "outputs": [],
   "source": [
    "flip_hor = cv2.cvtColor(flipped_horizontal, cv2.COLOR_BGR2RGB)\n",
    "flip_ver = cv2.cvtColor(flipped_vertical, cv2.COLOR_BGR2RGB)\n",
    "flip_dia = cv2.cvtColor(flipped_diagonal, cv2.COLOR_BGR2GB)\n",
    "img_org = cv2.cvtColor(image, cv2.COLOR_BGR2RGB)"
   ]
  },
  {
   "cell_type": "code",
   "execution_count": null,
   "id": "ae15b113-8dea-4a96-a615-3ee8d1399c70",
   "metadata": {},
   "outputs": [],
   "source": [
    "plt.figure(figsize=(16,9))\n",
    "plt.subplot(1,4,1)\n",
    "plt.title('Original Image')\n",
    "plt.imshow(img_org)\n",
    "plt.subplot(1,4,2)\n",
    "plt.title('Horizontal Flip')\n",
    "plt.imshow9(flip_hor)\n",
    "plt.subplot(1,4,3)\n",
    "plt.title('Vertical Flip')\n",
    "plt.imshow(flip_ver)\n",
    "plt.subplot(1,4,4)\n",
    "plt.title('Diagonal Flip')\n",
    "plt.imshow(flip_dia)"
   ]
  },
  {
   "cell_type": "code",
   "execution_count": null,
   "id": "520dde72-cae0-4923-b5cf-d3bdda00d2ea",
   "metadata": {},
   "outputs": [],
   "source": []
  },
  {
   "cell_type": "code",
   "execution_count": null,
   "id": "4934040c-c9da-4515-ab25-c9a5b8688c53",
   "metadata": {},
   "outputs": [],
   "source": []
  }
 ],
 "metadata": {
  "kernelspec": {
   "display_name": "Python 3 (ipykernel)",
   "language": "python",
   "name": "python3"
  },
  "language_info": {
   "codemirror_mode": {
    "name": "ipython",
    "version": 3
   },
   "file_extension": ".py",
   "mimetype": "text/x-python",
   "name": "python",
   "nbconvert_exporter": "python",
   "pygments_lexer": "ipython3",
   "version": "3.11.7"
  }
 },
 "nbformat": 4,
 "nbformat_minor": 5
}
