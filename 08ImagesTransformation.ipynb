{
 "cells": [
  {
   "cell_type": "markdown",
   "id": "a1ec1ba2-27cb-4909-8806-5f754d183ef5",
   "metadata": {},
   "source": [
    "##### Image Transformation"
   ]
  },
  {
   "cell_type": "code",
   "execution_count": 1,
   "id": "c5e404a1-a6ec-48e6-9237-ac98058252a6",
   "metadata": {},
   "outputs": [],
   "source": [
    "import cv2\n",
    "import numpy as np\n",
    "import matplotlib.pyplot as plt"
   ]
  },
  {
   "cell_type": "code",
   "execution_count": 4,
   "id": "20172979-82ec-498c-a082-724838c4516f",
   "metadata": {},
   "outputs": [],
   "source": [
    "image = cv2.imread('images/lenna.png')\n",
    "\n",
    "#Store height and width fo the image \n",
    "height, width = image.shape[:2]\n",
    "\n",
    "quarter_height, quarter_width = height / 4, width/4\n",
    "\n",
    "T = np.float32([[1, 0, quarter_width], [0, 1, quarter_height]])\n",
    "\n",
    "# We use warpAffline to transform the image using the matrix, T \n",
    "img_translation = cv2.warpAffine(image, T, (width, height))"
   ]
  },
  {
   "cell_type": "code",
   "execution_count": 5,
   "id": "f1293c02-d617-414f-a8e0-26c799c534ea",
   "metadata": {},
   "outputs": [
    {
     "data": {
      "text/plain": [
       "array([[  1.,   0., 128.],\n",
       "       [  0.,   1., 128.]], dtype=float32)"
      ]
     },
     "execution_count": 5,
     "metadata": {},
     "output_type": "execute_result"
    }
   ],
   "source": [
    "T"
   ]
  },
  {
   "cell_type": "code",
   "execution_count": 6,
   "id": "ef945a35-bc7b-4d15-acef-532feeb49b58",
   "metadata": {},
   "outputs": [
    {
     "data": {
      "text/plain": [
       "<matplotlib.image.AxesImage at 0x1891f214710>"
      ]
     },
     "execution_count": 6,
     "metadata": {},
     "output_type": "execute_result"
    },
    {
     "data": {
      "image/png": "[encoded data removed]",
      "text/plain": [
       "<Figure size 640x480 with 1 Axes>"
      ]
     },
     "metadata": {},
     "output_type": "display_data"
    }
   ],
   "source": [
    "plt.imshow(T)"
   ]
  },
  {
   "cell_type": "code",
   "execution_count": 11,
   "id": "171e6069-9d36-401a-a398-e8ebd7ea4ec2",
   "metadata": {},
   "outputs": [],
   "source": [
    "cv2.imshow('Original Image', image)\n",
    "cv2.imshow('Translated Image', img_translation)\n",
    "cv2.waitKey(0)\n",
    "cv2.destroyAllWindows()"
   ]
  },
  {
   "cell_type": "code",
   "execution_count": 14,
   "id": "20a08dfc-5545-4ca0-a232-8ae0abe80cf7",
   "metadata": {},
   "outputs": [],
   "source": [
    "T = np.float32([[1, 0, 40], [0, 1, 100]])\n",
    "img_translation = cv2.warpAffine(image, T, (width+100, height+100))\n",
    "cv2.imshow('Original Image', image)\n",
    "cv2.imshow('Translated Image', img_translation)\n",
    "cv2.waitKey(0)\n",
    "cv2.destroyAllWindows()"
   ]
  },
  {
   "cell_type": "code",
   "execution_count": null,
   "id": "a56271f1-2525-4611-a0a5-841aea54a04f",
   "metadata": {},
   "outputs": [],
   "source": []
  },
  {
   "cell_type": "code",
   "execution_count": null,
   "id": "944b602e-7629-4cb5-a4fd-df0a7680d47f",
   "metadata": {},
   "outputs": [],
   "source": [
    "S"
   ]
  }
 ],
 "metadata": {
  "kernelspec": {
   "display_name": "Python 3 (ipykernel)",
   "language": "python",
   "name": "python3"
  },
  "language_info": {
   "codemirror_mode": {
    "name": "ipython",
    "version": 3
   },
   "file_extension": ".py",
   "mimetype": "text/x-python",
   "name": "python",
   "nbconvert_exporter": "python",
   "pygments_lexer": "ipython3",
   "version": "3.11.7"
  }
 },
 "nbformat": 4,
 "nbformat_minor": 5
}
