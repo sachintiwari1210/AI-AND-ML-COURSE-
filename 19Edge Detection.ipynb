{
 "cells": [
  {
   "cell_type": "code",
   "execution_count": 8,
   "id": "451fe0a5-cdd5-4979-acb5-3a70c1ea3f42",
   "metadata": {},
   "outputs": [],
   "source": [
    "import matplotlib.pyplot as plt\n",
    "import numpy as np\n",
    "import cv2"
   ]
  },
  {
   "cell_type": "code",
   "execution_count": 9,
   "id": "9aa8ecea-fe7d-4e57-8b5f-882915b21d80",
   "metadata": {},
   "outputs": [],
   "source": [
    "img = cv2.imread('images/lenna.png', 0)"
   ]
  },
  {
   "cell_type": "code",
   "execution_count": 12,
   "id": "436b8e02-7ce6-45aa-a967-857e934ae4cf",
   "metadata": {},
   "outputs": [],
   "source": [
    "# Sobel parameters: ksize, ds, dy, addepth\n",
    "sobelx = cv2.Sobel(img, cv2.CV_64F, 1, 0, ksize=3)\n",
    "# Sobel for horizontal edges\n",
    "sobely = cv2.Sobel(img, cv2.CV_64F, 0, 1, ksize=3)\n",
    "# Soble fo rverical edges\n",
    "\n",
    "#Combine the sobel images (optional)\n",
    "combined_sobel = cv2.add(sobelx, sobely)"
   ]
  },
  {
   "cell_type": "code",
   "execution_count": 14,
   "id": "24f7d983-8293-4f2e-bd51-c499828ed0fc",
   "metadata": {},
   "outputs": [],
   "source": [
    "final_img = np.hstack([sobelx, sobely, combined_sobel])\n",
    "cv2.imshow('All Images', final_img)\n",
    "cv2.waitKey(0)\n",
    "cv2.destroyAllWindows()"
   ]
  },
  {
   "cell_type": "code",
   "execution_count": 18,
   "id": "c00e3385-1acb-4849-a3e3-0605bdd15bfc",
   "metadata": {},
   "outputs": [
    {
     "data": {
      "text/plain": [
       "(512, 512)"
      ]
     },
     "execution_count": 18,
     "metadata": {},
     "output_type": "execute_result"
    }
   ],
   "source": [
    "sobelx.shape"
   ]
  },
  {
   "cell_type": "code",
   "execution_count": 19,
   "id": "e1a96ee3-b77b-4b35-9ff6-c804d62b15cd",
   "metadata": {},
   "outputs": [
    {
     "ename": "SyntaxError",
     "evalue": "invalid syntax. Maybe you meant '==' or ':=' instead of '='? (888418121.py, line 7)",
     "output_type": "error",
     "traceback": [
      "\u001b[1;36m  Cell \u001b[1;32mIn[19], line 7\u001b[1;36m\u001b[0m\n\u001b[1;33m    plt.imshow((abs(sobelx), cmap='gray')\u001b[0m\n\u001b[1;37m                             ^\u001b[0m\n\u001b[1;31mSyntaxError\u001b[0m\u001b[1;31m:\u001b[0m invalid syntax. Maybe you meant '==' or ':=' instead of '='?\n"
     ]
    }
   ],
   "source": [
    "plt.figure(figsize=(16,9))\n",
    "plt.subplot(1,4,1) \n",
    "plt.title('Original')\n",
    "plt.imshow(img, cmap='gray')\n",
    "plt.subplot(1,4,2)\n",
    "plt.title('Sobel X')\n",
    "plt.imshow((abs(sobelx), cmap='gray')"
   ]
  },
  {
   "cell_type": "markdown",
   "id": "aff5615d-de51-4269-9e3c-9d21baeb348b",
   "metadata": {},
   "source": [
    "##### Canny edge detection"
   ]
  },
  {
   "cell_type": "code",
   "execution_count": null,
   "id": "2261d4c5-d74b-486a-9dfc-1bd19fd9f5af",
   "metadata": {},
   "outputs": [],
   "source": [
    "img2 = cv2.imread('image/circle.png',0)"
   ]
  },
  {
   "cell_type": "code",
   "execution_count": 5,
   "id": "9d1b2e90-bd04-4818-bc2e-0a2dc3ca9118",
   "metadata": {},
   "outputs": [],
   "source": [
    "import cv2\n",
    "# Load the image \n",
    "img = cv2.imread('images/lenna.png', 0)\n",
    "\n",
    "# Apply Canny edge detection \n",
    "edges = cv2.Canny(img, 50, 150)  # Adjust thresold if needed\n",
    "\n",
    "# Display results\n",
    "cv2.imshow('Original Image', img)\n",
    "cv2.imshow('Canny Edge Detectin', edges)\n",
    "cv2.waitKey(0)\n",
    "cv2.destroyAllWindows()"
   ]
  },
  {
   "cell_type": "code",
   "execution_count": 10,
   "id": "5d177350-954c-49ff-a38e-d54d503f9ada",
   "metadata": {},
   "outputs": [],
   "source": [
    "import cv2\n",
    "# Load the image \n",
    "img = cv2.imread('images/circle.png', 0)\n",
    "\n",
    "# Apply Canny edge detection \n",
    "edges = cv2.Canny(img, 50, 150)  # Adjust thresold if needed\n",
    "\n",
    "# Display results\n",
    "cv2.imshow('Original Image', img)\n",
    "cv2.imshow('Canny Edge Detectin', edges)\n",
    "cv2.waitKey(0)\n",
    "cv2.destroyAllWindows()"
   ]
  },
  {
   "cell_type": "code",
   "execution_count": 9,
   "id": "277a9e7f-6465-42b7-b99b-54354aa94184",
   "metadata": {},
   "outputs": [
    {
     "ename": "NameError",
     "evalue": "name 'plt' is not defined",
     "output_type": "error",
     "traceback": [
      "\u001b[1;31m---------------------------------------------------------------------------\u001b[0m",
      "\u001b[1;31mNameError\u001b[0m                                 Traceback (most recent call last)",
      "Cell \u001b[1;32mIn[9], line 2\u001b[0m\n\u001b[0;32m      1\u001b[0m \u001b[38;5;66;03m#plt.figure(figsize=(16,9))\u001b[39;00m\n\u001b[1;32m----> 2\u001b[0m plt\u001b[38;5;241m.\u001b[39msubplot(\u001b[38;5;241m1\u001b[39m,\u001b[38;5;241m2\u001b[39m,\u001b[38;5;241m1\u001b[39m) \n\u001b[0;32m      3\u001b[0m plt\u001b[38;5;241m.\u001b[39mtitel(\u001b[38;5;124m'\u001b[39m\u001b[38;5;124mOriginal Image\u001b[39m\u001b[38;5;124m'\u001b[39m)\n\u001b[0;32m      4\u001b[0m plt\u001b[38;5;241m.\u001b[39mimshow(img2)\n",
      "\u001b[1;31mNameError\u001b[0m: name 'plt' is not defined"
     ]
    }
   ],
   "source": [
    "#plt.figure(figsize=(16,9))\n",
    "plt.subplot(1,2,1) \n",
    "plt.titel('Original Image')\n",
    "plt.imshow(img2)\n",
    "plt.subplot(1,2,2)\n",
    "plt.title('Edges Detected')\n",
    "plt.imshow(edges , cmap = 'gray')"
   ]
  },
  {
   "cell_type": "code",
   "execution_count": null,
   "id": "efcf9fc2-1f1f-436a-8bea-df4a6727f2cf",
   "metadata": {},
   "outputs": [],
   "source": []
  },
  {
   "cell_type": "code",
   "execution_count": null,
   "id": "9a1f27c2-7b1e-46f3-8db0-a5c3ab8cc849",
   "metadata": {},
   "outputs": [],
   "source": []
  }
 ],
 "metadata": {
  "kernelspec": {
   "display_name": "Python 3 (ipykernel)",
   "language": "python",
   "name": "python3"
  },
  "language_info": {
   "codemirror_mode": {
    "name": "ipython",
    "version": 3
   },
   "file_extension": ".py",
   "mimetype": "text/x-python",
   "name": "python",
   "nbconvert_exporter": "python",
   "pygments_lexer": "ipython3",
   "version": "3.11.7"
  }
 },
 "nbformat": 4,
 "nbformat_minor": 5
}
