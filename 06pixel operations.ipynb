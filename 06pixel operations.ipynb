{
 "cells": [
  {
   "cell_type": "code",
   "execution_count": 2,
   "id": "005d5dbb-d7bb-4efc-8524-5ecd299bd88e",
   "metadata": {},
   "outputs": [],
   "source": [
    "import cv2\n",
    "import matplotlib.pyplot as plt"
   ]
  },
  {
   "cell_type": "code",
   "execution_count": 3,
   "id": "48c4e27b-5232-4475-907d-0f2c4e9f509a",
   "metadata": {},
   "outputs": [],
   "source": [
    "img = cv2.imread('images/lenna.png')\n"
   ]
  },
  {
   "cell_type": "code",
   "execution_count": 4,
   "id": "448bd075-8feb-47cb-ae2d-e91288c77cf3",
   "metadata": {},
   "outputs": [
    {
     "data": {
      "text/plain": [
       "(512, 512, 3)"
      ]
     },
     "execution_count": 4,
     "metadata": {},
     "output_type": "execute_result"
    }
   ],
   "source": [
    "img.shape"
   ]
  },
  {
   "cell_type": "code",
   "execution_count": 12,
   "id": "6275d042-6465-4ec1-8402-1b6f33774723",
   "metadata": {},
   "outputs": [],
   "source": [
    "pix = img[300,200]"
   ]
  },
  {
   "cell_type": "code",
   "execution_count": 13,
   "id": "fe05e99b-0e96-4d7d-8c28-bd3698653e21",
   "metadata": {},
   "outputs": [
    {
     "data": {
      "text/plain": [
       "array([[[ 91,  85, 182]]], dtype=uint8)"
      ]
     },
     "execution_count": 13,
     "metadata": {},
     "output_type": "execute_result"
    }
   ],
   "source": [
    "pix = pix.reshape(1,1,3)\n",
    "pix"
   ]
  },
  {
   "cell_type": "code",
   "execution_count": 14,
   "id": "d72ac8e8-326a-475a-b2ff-49ac8c2c02bb",
   "metadata": {},
   "outputs": [
    {
     "data": {
      "text/plain": [
       "<matplotlib.image.AxesImage at 0x1f9acff3ed0>"
      ]
     },
     "execution_count": 14,
     "metadata": {},
     "output_type": "execute_result"
    },
    {
     "data": {
      "image/png": "[encoded data removed]",
      "text/plain": [
       "<Figure size 640x480 with 1 Axes>"
      ]
     },
     "metadata": {},
     "output_type": "display_data"
    }
   ],
   "source": [
    "plt.imshow(pix)"
   ]
  },
  {
   "cell_type": "code",
   "execution_count": 77,
   "id": "d6dfb5f8-591e-486d-9aaa-28c1dd67cc59",
   "metadata": {},
   "outputs": [],
   "source": [
    "cv2.imshow('Image', img)\n",
    "cv2.waitKey(0)\n",
    "cv2.destroyAllWindows()"
   ]
  },
  {
   "cell_type": "code",
   "execution_count": 78,
   "id": "ea5365df-0ac4-4217-bf26-7d87f75b6124",
   "metadata": {},
   "outputs": [],
   "source": [
    "for i in range(512):\n",
    "    img[100:300,100:300] = 0\n",
    "   "
   ]
  },
  {
   "cell_type": "code",
   "execution_count": 79,
   "id": "16d038cc-5821-4efd-bc55-d30025d1ebad",
   "metadata": {},
   "outputs": [],
   "source": [
    "cv2.imshow('Image', img)\n",
    "cv2.waitKey(0)\n",
    "cv2.destroyAllWindows()"
   ]
  },
  {
   "cell_type": "code",
   "execution_count": 90,
   "id": "3ab987bd-200c-4493-aa52-6b6769d29961",
   "metadata": {},
   "outputs": [],
   "source": [
    "img = cv2.imread('images/lenna.png')"
   ]
  },
  {
   "cell_type": "code",
   "execution_count": 91,
   "id": "1d3aa540-94f4-4c1d-afb9-e53f54ba1089",
   "metadata": {},
   "outputs": [],
   "source": [
    "for i in range(0,512,2):\n",
    "    for j in range(512):\n",
    "         img[i,j] = 0"
   ]
  },
  {
   "cell_type": "code",
   "execution_count": null,
   "id": "1ed2920a-36c8-4ee8-a328-e1b05caec273",
   "metadata": {},
   "outputs": [],
   "source": [
    "cv2.imshow('Image', img)\n",
    "cv2.waitKey(0)\n",
    "cv2.destroyAllWindows()"
   ]
  },
  {
   "cell_type": "code",
   "execution_count": null,
   "id": "90e42f81-7dda-4716-8e60-19056c29c09e",
   "metadata": {},
   "outputs": [],
   "source": []
  }
 ],
 "metadata": {
  "kernelspec": {
   "display_name": "Python 3 (ipykernel)",
   "language": "python",
   "name": "python3"
  },
  "language_info": {
   "codemirror_mode": {
    "name": "ipython",
    "version": 3
   },
   "file_extension": ".py",
   "mimetype": "text/x-python",
   "name": "python",
   "nbconvert_exporter": "python",
   "pygments_lexer": "ipython3",
   "version": "3.11.7"
  }
 },
 "nbformat": 4,
 "nbformat_minor": 5
}
