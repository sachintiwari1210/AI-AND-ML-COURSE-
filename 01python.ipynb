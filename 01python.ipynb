{
 "cells": [
  {
   "cell_type": "code",
   "execution_count": 1,
   "id": "e6f16844-8f1d-41c9-8170-4de8f3b6382c",
   "metadata": {},
   "outputs": [
    {
     "name": "stdout",
     "output_type": "stream",
     "text": [
      "Hello World\n"
     ]
    }
   ],
   "source": [
    "print('Hello World')"
   ]
  },
  {
   "cell_type": "markdown",
   "id": "9ed76f86-b54b-4f8b-b503-9d2b972a572a",
   "metadata": {},
   "source": [
    "##### Simple Python  Program"
   ]
  },
  {
   "cell_type": "code",
   "execution_count": 22,
   "id": "2c53be77-5da1-432b-8197-fec433819bb0",
   "metadata": {
    "scrolled": true
   },
   "outputs": [
    {
     "name": "stdin",
     "output_type": "stream",
     "text": [
      "Enter the temperature: \n"
     ]
    },
    {
     "ename": "ValueError",
     "evalue": "invalid literal for int() with base 10: ''",
     "output_type": "error",
     "traceback": [
      "\u001b[1;31m---------------------------------------------------------------------------\u001b[0m",
      "\u001b[1;31mValueError\u001b[0m                                Traceback (most recent call last)",
      "Cell \u001b[1;32mIn[22], line 1\u001b[0m\n\u001b[1;32m----> 1\u001b[0m cent \u001b[38;5;241m=\u001b[39m \u001b[38;5;28mint\u001b[39m(\u001b[38;5;28minput\u001b[39m(\u001b[38;5;124m'\u001b[39m\u001b[38;5;124mEnter the temperature:\u001b[39m\u001b[38;5;124m'\u001b[39m))\n\u001b[0;32m      2\u001b[0m far \u001b[38;5;241m=\u001b[39m cent\u001b[38;5;241m*\u001b[39m\u001b[38;5;241m1.8\u001b[39m\u001b[38;5;241m+\u001b[39m\u001b[38;5;241m32\u001b[39m\n\u001b[0;32m      3\u001b[0m \u001b[38;5;28mprint\u001b[39m(\u001b[38;5;124m'\u001b[39m\u001b[38;5;124mFarenhite Temperature:\u001b[39m\u001b[38;5;124m'\u001b[39m, far)\n",
      "\u001b[1;31mValueError\u001b[0m: invalid literal for int() with base 10: ''"
     ]
    }
   ],
   "source": [
    "cent = int(input('Enter the temperature:'))\n",
    "far = cent*1.8+32\n",
    "print('Farenhite Temperature:', far)"
   ]
  },
  {
   "cell_type": "code",
   "execution_count": 5,
   "id": "47747632-523c-4330-88e9-96f668993b3c",
   "metadata": {},
   "outputs": [
    {
     "data": {
      "text/plain": [
       "float"
      ]
     },
     "execution_count": 5,
     "metadata": {},
     "output_type": "execute_result"
    }
   ],
   "source": [
    "type(far)\n"
   ]
  },
  {
   "cell_type": "code",
   "execution_count": 4,
   "id": "146dfa34-96fe-4ea8-80ee-6d261c1c0174",
   "metadata": {},
   "outputs": [
    {
     "data": {
      "text/plain": [
       "int"
      ]
     },
     "execution_count": 4,
     "metadata": {},
     "output_type": "execute_result"
    }
   ],
   "source": [
    "type(cent)\n"
   ]
  },
  {
   "cell_type": "markdown",
   "id": "4cc5234a-249f-42bf-b530-1d4b82db17a5",
   "metadata": {},
   "source": [
    "##### Decision Makin statements"
   ]
  },
  {
   "cell_type": "code",
   "execution_count": 18,
   "id": "75707c94-bed5-4cc8-86cf-6f6fee7f82c7",
   "metadata": {},
   "outputs": [
    {
     "name": "stdin",
     "output_type": "stream",
     "text": [
      "Enter the number: 60\n"
     ]
    },
    {
     "name": "stdout",
     "output_type": "stream",
     "text": [
      "Number is Positive!\n"
     ]
    }
   ],
   "source": [
    "num = int(input('Enter the number:'))\n",
    "if num>0:\n",
    "    print('Number is Positive!')\n",
    "else: \n",
    "    print('Number is Negative!')"
   ]
  },
  {
   "cell_type": "code",
   "execution_count": 15,
   "id": "68694e1a-7573-44c7-86a3-3a751ef8380e",
   "metadata": {},
   "outputs": [
    {
     "name": "stdin",
     "output_type": "stream",
     "text": [
      "Enter the number: 0\n"
     ]
    },
    {
     "name": "stdout",
     "output_type": "stream",
     "text": [
      "Number is ZERO.\n"
     ]
    }
   ],
   "source": [
    "num = int(input('Enter the number:'))\n",
    "if num>0:\n",
    "    print('Number is Positive!')\n",
    "elif num==0:\n",
    "    print('Number is ZERO.')\n",
    "else:\n",
    "    print('Number is Negative!')"
   ]
  },
  {
   "cell_type": "markdown",
   "id": "c9784c3a-ee3d-44ed-8740-b47330dcb3b7",
   "metadata": {},
   "source": [
    "##### looping"
   ]
  },
  {
   "cell_type": "code",
   "execution_count": 25,
   "id": "4d096e9d-12ef-4ba8-b136-5ebf1f20325c",
   "metadata": {},
   "outputs": [
    {
     "name": "stdout",
     "output_type": "stream",
     "text": [
      "SACHIN\n",
      "SACHIN\n",
      "SACHIN\n",
      "SACHIN\n",
      "SACHIN\n",
      "SACHIN\n",
      "SACHIN\n",
      "SACHIN\n",
      "SACHIN\n",
      "SACHIN\n"
     ]
    }
   ],
   "source": [
    "count = 0\n",
    "while count<10:\n",
    "    print('SACHIN')\n",
    "    count=count + 1"
   ]
  },
  {
   "cell_type": "code",
   "execution_count": 32,
   "id": "4c3b8b9b-c54a-4205-b43e-ebafe9773ca7",
   "metadata": {},
   "outputs": [
    {
     "name": "stdout",
     "output_type": "stream",
     "text": [
      "67\n",
      "60\n",
      "69\n",
      "70\n"
     ]
    }
   ],
   "source": [
    "for i in 67,60,69,70,:\n",
    "    print(i)"
   ]
  },
  {
   "cell_type": "code",
   "execution_count": 33,
   "id": "2d5e02ac-a478-45ab-9347-fc53db395a3f",
   "metadata": {},
   "outputs": [
    {
     "name": "stdout",
     "output_type": "stream",
     "text": [
      "PPPPPPPPPP\n",
      "uuuuuuuuuu\n",
      "nnnnnnnnnn\n",
      "eeeeeeeeee\n"
     ]
    }
   ],
   "source": [
    "for i in 'Pune':\n",
    "    print(i*10)"
   ]
  },
  {
   "cell_type": "code",
   "execution_count": 36,
   "id": "d86d67c2-f437-4545-8e62-9d35eca91b58",
   "metadata": {},
   "outputs": [
    {
     "name": "stdout",
     "output_type": "stream",
     "text": [
      "0\n",
      "1\n",
      "4\n",
      "9\n",
      "16\n",
      "25\n",
      "36\n",
      "49\n",
      "64\n",
      "81\n"
     ]
    }
   ],
   "source": [
    "for x in range(10):\n",
    "    print(x*x)"
   ]
  },
  {
   "cell_type": "code",
   "execution_count": 44,
   "id": "63bce774-940c-4d5c-ac39-b66fe203e225",
   "metadata": {},
   "outputs": [],
   "source": [
    "def square (num=10):\n",
    "    sq=num*num\n",
    "    return sq"
   ]
  },
  {
   "cell_type": "code",
   "execution_count": 38,
   "id": "5cc0df77-f952-4320-b0a8-f2f535408201",
   "metadata": {},
   "outputs": [
    {
     "name": "stdout",
     "output_type": "stream",
     "text": [
      "Square is: 25\n"
     ]
    }
   ],
   "source": [
    "print('Square is:', square(5))"
   ]
  },
  {
   "cell_type": "code",
   "execution_count": 39,
   "id": "c116082f-4f3f-471d-94a0-ce2ada4b9869",
   "metadata": {},
   "outputs": [
    {
     "data": {
      "text/plain": [
       "16"
      ]
     },
     "execution_count": 39,
     "metadata": {},
     "output_type": "execute_result"
    }
   ],
   "source": [
    "square(4)"
   ]
  },
  {
   "cell_type": "code",
   "execution_count": 43,
   "id": "2ae7f6fc-e749-4443-9d29-29f0fea2eac9",
   "metadata": {},
   "outputs": [
    {
     "data": {
      "text/plain": [
       "81"
      ]
     },
     "execution_count": 43,
     "metadata": {},
     "output_type": "execute_result"
    }
   ],
   "source": [
    "square()"
   ]
  },
  {
   "cell_type": "code",
   "execution_count": 45,
   "id": "254a4396-3023-4ed7-b300-b499fe6993e9",
   "metadata": {},
   "outputs": [],
   "source": [
    "def calc(num):\n",
    "    sq=num*num\n",
    "    cu=num**3\n",
    "    return sq,cu"
   ]
  },
  {
   "cell_type": "code",
   "execution_count": 46,
   "id": "1a195c1e-bb6e-4313-a1c4-70304b7988d0",
   "metadata": {},
   "outputs": [
    {
     "data": {
      "text/plain": [
       "(9, 27)"
      ]
     },
     "execution_count": 46,
     "metadata": {},
     "output_type": "execute_result"
    }
   ],
   "source": [
    "calc(3)"
   ]
  },
  {
   "cell_type": "markdown",
   "id": "cffc865b-2e1b-4d07-841e-2de4bb896d1a",
   "metadata": {},
   "source": [
    "###### Data Structure"
   ]
  },
  {
   "cell_type": "code",
   "execution_count": 50,
   "id": "8bf232a4-8707-4aa8-9b26-e58c94e46e4d",
   "metadata": {},
   "outputs": [],
   "source": [
    "num1=[45,67,40,59,78,59]"
   ]
  },
  {
   "cell_type": "code",
   "execution_count": 48,
   "id": "c479e375-ef08-472e-b9a9-8f1b11b6802e",
   "metadata": {},
   "outputs": [
    {
     "data": {
      "text/plain": [
       "list"
      ]
     },
     "execution_count": 48,
     "metadata": {},
     "output_type": "execute_result"
    }
   ],
   "source": [
    "type(num1)"
   ]
  },
  {
   "cell_type": "code",
   "execution_count": 51,
   "id": "733f3f36-269e-4728-8ef3-877c18e6b2d9",
   "metadata": {},
   "outputs": [
    {
     "data": {
      "text/plain": [
       "59"
      ]
     },
     "execution_count": 51,
     "metadata": {},
     "output_type": "execute_result"
    }
   ],
   "source": [
    "num1[5]"
   ]
  },
  {
   "cell_type": "code",
   "execution_count": 54,
   "id": "c2c14fb6-1257-4b40-837e-3f6331c53c46",
   "metadata": {},
   "outputs": [],
   "source": [
    "num2=(45,90,32,34,)"
   ]
  },
  {
   "cell_type": "code",
   "execution_count": 53,
   "id": "8dcd1fbc-cf3a-4155-9f49-b10e85470bbe",
   "metadata": {},
   "outputs": [
    {
     "data": {
      "text/plain": [
       "tuple"
      ]
     },
     "execution_count": 53,
     "metadata": {},
     "output_type": "execute_result"
    }
   ],
   "source": [
    "type(num2)"
   ]
  },
  {
   "cell_type": "code",
   "execution_count": 55,
   "id": "bd00223f-d7fb-47b6-ad93-98b96bc69ba6",
   "metadata": {},
   "outputs": [],
   "source": [
    "num1[2]=56"
   ]
  },
  {
   "cell_type": "code",
   "execution_count": 56,
   "id": "85ed79b4-4a5b-4e63-8d3b-59704ecbb20e",
   "metadata": {},
   "outputs": [
    {
     "ename": "TypeError",
     "evalue": "'tuple' object does not support item assignment",
     "output_type": "error",
     "traceback": [
      "\u001b[1;31m---------------------------------------------------------------------------\u001b[0m",
      "\u001b[1;31mTypeError\u001b[0m                                 Traceback (most recent call last)",
      "Cell \u001b[1;32mIn[56], line 1\u001b[0m\n\u001b[1;32m----> 1\u001b[0m num2[\u001b[38;5;241m2\u001b[39m]\u001b[38;5;241m=\u001b[39m\u001b[38;5;241m56\u001b[39m\n",
      "\u001b[1;31mTypeError\u001b[0m: 'tuple' object does not support item assignment"
     ]
    }
   ],
   "source": [
    "num2[2]=56"
   ]
  },
  {
   "cell_type": "code",
   "execution_count": 60,
   "id": "9d52a4f8-1efd-4359-9c87-c0195a82e1eb",
   "metadata": {},
   "outputs": [],
   "source": [
    "num3={45,67,67,54,54,34,23}"
   ]
  },
  {
   "cell_type": "code",
   "execution_count": 61,
   "id": "79fc2c16-ff19-42c2-a927-1df1104dab2c",
   "metadata": {},
   "outputs": [
    {
     "data": {
      "text/plain": [
       "set"
      ]
     },
     "execution_count": 61,
     "metadata": {},
     "output_type": "execute_result"
    }
   ],
   "source": [
    "type(num3)"
   ]
  },
  {
   "cell_type": "code",
   "execution_count": 63,
   "id": "d33effe7-8f4b-4f7f-8c6c-5e0dce6fbab3",
   "metadata": {},
   "outputs": [
    {
     "data": {
      "text/plain": [
       "{23, 34, 45, 54, 67}"
      ]
     },
     "execution_count": 63,
     "metadata": {},
     "output_type": "execute_result"
    }
   ],
   "source": [
    "num3"
   ]
  },
  {
   "cell_type": "code",
   "execution_count": 64,
   "id": "277eb107-aa4f-4e70-ad32-8038b6a13f23",
   "metadata": {},
   "outputs": [],
   "source": [
    "num4={2:45,5:67,10:11,7:23, 'x':90}"
   ]
  },
  {
   "cell_type": "code",
   "execution_count": 65,
   "id": "277bdac2-2be8-4619-a8d1-24c2a1ef5e31",
   "metadata": {},
   "outputs": [
    {
     "data": {
      "text/plain": [
       "dict"
      ]
     },
     "execution_count": 65,
     "metadata": {},
     "output_type": "execute_result"
    }
   ],
   "source": [
    "type(num4)"
   ]
  },
  {
   "cell_type": "code",
   "execution_count": 67,
   "id": "3f45f65e-6abe-4304-90d1-e662b4c81619",
   "metadata": {},
   "outputs": [
    {
     "data": {
      "text/plain": [
       "11"
      ]
     },
     "execution_count": 67,
     "metadata": {},
     "output_type": "execute_result"
    }
   ],
   "source": [
    "num4[10]"
   ]
  },
  {
   "cell_type": "markdown",
   "id": "4039c101-28c5-4478-b4b0-487d59497ecc",
   "metadata": {},
   "source": [
    "##### class"
   ]
  },
  {
   "cell_type": "code",
   "execution_count": 68,
   "id": "2d9e3a23-fbd3-4056-b307-9d9b7060ac36",
   "metadata": {},
   "outputs": [],
   "source": [
    "num1.reverse()"
   ]
  },
  {
   "cell_type": "code",
   "execution_count": 69,
   "id": "a6b0f9d9-dbbe-4b60-8af0-68771ae492f5",
   "metadata": {},
   "outputs": [
    {
     "data": {
      "text/plain": [
       "[59, 78, 59, 56, 67, 45]"
      ]
     },
     "execution_count": 69,
     "metadata": {},
     "output_type": "execute_result"
    }
   ],
   "source": [
    "num1"
   ]
  },
  {
   "cell_type": "code",
   "execution_count": 74,
   "id": "de0099d1-7028-4d8e-b690-b757aab6bc19",
   "metadata": {},
   "outputs": [
    {
     "data": {
      "text/plain": [
       "1"
      ]
     },
     "execution_count": 74,
     "metadata": {},
     "output_type": "execute_result"
    }
   ],
   "source": [
    "num2.count(45)"
   ]
  },
  {
   "cell_type": "code",
   "execution_count": 75,
   "id": "28affcbc-7ca9-437a-bc8d-411fd04ce004",
   "metadata": {},
   "outputs": [
    {
     "data": {
      "text/plain": [
       "1"
      ]
     },
     "execution_count": 75,
     "metadata": {},
     "output_type": "execute_result"
    }
   ],
   "source": [
    "num2.count(32)"
   ]
  },
  {
   "cell_type": "code",
   "execution_count": 76,
   "id": "d8b36408-9331-4328-b8bf-febe8da3a653",
   "metadata": {},
   "outputs": [],
   "source": [
    "num3.add(18)"
   ]
  },
  {
   "cell_type": "code",
   "execution_count": 77,
   "id": "687e10a5-df1f-4962-9598-5606d5a0faea",
   "metadata": {},
   "outputs": [
    {
     "data": {
      "text/plain": [
       "{18, 23, 34, 45, 54, 67}"
      ]
     },
     "execution_count": 77,
     "metadata": {},
     "output_type": "execute_result"
    }
   ],
   "source": [
    "num3"
   ]
  },
  {
   "cell_type": "code",
   "execution_count": 78,
   "id": "b5415be4-5940-4174-b98e-095aff99d667",
   "metadata": {},
   "outputs": [],
   "source": [
    "name='sachin'"
   ]
  },
  {
   "cell_type": "code",
   "execution_count": 79,
   "id": "9dd8e88f-7855-458d-b5c4-35a982b7671d",
   "metadata": {},
   "outputs": [
    {
     "data": {
      "text/plain": [
       "'SACHIN'"
      ]
     },
     "execution_count": 79,
     "metadata": {},
     "output_type": "execute_result"
    }
   ],
   "source": [
    "name.upper()"
   ]
  },
  {
   "cell_type": "code",
   "execution_count": 83,
   "id": "46498020-0012-40d0-adcd-8d11044fdd6d",
   "metadata": {},
   "outputs": [],
   "source": [
    "class Person:\n",
    "    def __init__(self,n,a):\n",
    "        self.name=n\n",
    "        self.age=a\n",
    "    def show(self):\n",
    "        print('values are:')\n",
    "        print(self.name,self.age)"
   ]
  },
  {
   "cell_type": "code",
   "execution_count": 89,
   "id": "c1d16112-66a4-41d6-a479-3e4c31236dff",
   "metadata": {},
   "outputs": [],
   "source": [
    "per1 = Person('ajay', 34)"
   ]
  },
  {
   "cell_type": "code",
   "execution_count": 92,
   "id": "d040c8ce-321c-455f-a100-dc8d4f5771a4",
   "metadata": {},
   "outputs": [
    {
     "data": {
      "text/plain": [
       "'ajay'"
      ]
     },
     "execution_count": 92,
     "metadata": {},
     "output_type": "execute_result"
    }
   ],
   "source": [
    "per1.name"
   ]
  },
  {
   "cell_type": "code",
   "execution_count": 93,
   "id": "f129fe24-ab48-4ba6-a599-f513ade3a463",
   "metadata": {},
   "outputs": [
    {
     "data": {
      "text/plain": [
       "34"
      ]
     },
     "execution_count": 93,
     "metadata": {},
     "output_type": "execute_result"
    }
   ],
   "source": [
    "per1.age"
   ]
  },
  {
   "cell_type": "code",
   "execution_count": 94,
   "id": "2d810579-5102-4a3b-88d8-1a98725eadcf",
   "metadata": {},
   "outputs": [
    {
     "name": "stdout",
     "output_type": "stream",
     "text": [
      "values are:\n",
      "ajay 34\n"
     ]
    }
   ],
   "source": [
    "per1.show()"
   ]
  },
  {
   "cell_type": "code",
   "execution_count": 95,
   "id": "aaccc0c3-2580-4dfa-b4ce-9728167dc097",
   "metadata": {},
   "outputs": [
    {
     "name": "stdout",
     "output_type": "stream",
     "text": [
      "values are:\n",
      "vijay 21\n"
     ]
    }
   ],
   "source": [
    "p2 = Person('vijay',21)\n",
    "p2.show()"
   ]
  },
  {
   "cell_type": "code",
   "execution_count": 97,
   "id": "3ab2ff50-9fe2-47f8-9fe8-21b41af2dd87",
   "metadata": {},
   "outputs": [
    {
     "name": "stdout",
     "output_type": "stream",
     "text": [
      "values are:\n",
      "vijay 21\n"
     ]
    }
   ],
   "source": [
    "p3 = Person('sachin',25)\n",
    "p2.show()\n"
   ]
  },
  {
   "cell_type": "markdown",
   "id": "28e31d36-a0d5-4662-af60-04abeb1a6ff7",
   "metadata": {},
   "source": [
    "##### Using the libraries"
   ]
  },
  {
   "cell_type": "code",
   "execution_count": 98,
   "id": "39576689-7074-47d0-9993-0a1e7f21c76d",
   "metadata": {},
   "outputs": [],
   "source": [
    "import math"
   ]
  },
  {
   "cell_type": "code",
   "execution_count": 100,
   "id": "626a8a70-7a8b-41dd-8299-80d4b6c8315b",
   "metadata": {},
   "outputs": [
    {
     "name": "stdout",
     "output_type": "stream",
     "text": [
      "Help on built-in module math:\n",
      "\n",
      "NAME\n",
      "    math\n",
      "\n",
      "DESCRIPTION\n",
      "    This module provides access to the mathematical functions\n",
      "    defined by the C standard.\n",
      "\n",
      "FUNCTIONS\n",
      "    acos(x, /)\n",
      "        Return the arc cosine (measured in radians) of x.\n",
      "        \n",
      "        The result is between 0 and pi.\n",
      "    \n",
      "    acosh(x, /)\n",
      "        Return the inverse hyperbolic cosine of x.\n",
      "    \n",
      "    asin(x, /)\n",
      "        Return the arc sine (measured in radians) of x.\n",
      "        \n",
      "        The result is between -pi/2 and pi/2.\n",
      "    \n",
      "    asinh(x, /)\n",
      "        Return the inverse hyperbolic sine of x.\n",
      "    \n",
      "    atan(x, /)\n",
      "        Return the arc tangent (measured in radians) of x.\n",
      "        \n",
      "        The result is between -pi/2 and pi/2.\n",
      "    \n",
      "    atan2(y, x, /)\n",
      "        Return the arc tangent (measured in radians) of y/x.\n",
      "        \n",
      "        Unlike atan(y/x), the signs of both x and y are considered.\n",
      "    \n",
      "    atanh(x, /)\n",
      "        Return the inverse hyperbolic tangent of x.\n",
      "    \n",
      "    cbrt(x, /)\n",
      "        Return the cube root of x.\n",
      "    \n",
      "    ceil(x, /)\n",
      "        Return the ceiling of x as an Integral.\n",
      "        \n",
      "        This is the smallest integer >= x.\n",
      "    \n",
      "    comb(n, k, /)\n",
      "        Number of ways to choose k items from n items without repetition and without order.\n",
      "        \n",
      "        Evaluates to n! / (k! * (n - k)!) when k <= n and evaluates\n",
      "        to zero when k > n.\n",
      "        \n",
      "        Also called the binomial coefficient because it is equivalent\n",
      "        to the coefficient of k-th term in polynomial expansion of the\n",
      "        expression (1 + x)**n.\n",
      "        \n",
      "        Raises TypeError if either of the arguments are not integers.\n",
      "        Raises ValueError if either of the arguments are negative.\n",
      "    \n",
      "    copysign(x, y, /)\n",
      "        Return a float with the magnitude (absolute value) of x but the sign of y.\n",
      "        \n",
      "        On platforms that support signed zeros, copysign(1.0, -0.0)\n",
      "        returns -1.0.\n",
      "    \n",
      "    cos(x, /)\n",
      "        Return the cosine of x (measured in radians).\n",
      "    \n",
      "    cosh(x, /)\n",
      "        Return the hyperbolic cosine of x.\n",
      "    \n",
      "    degrees(x, /)\n",
      "        Convert angle x from radians to degrees.\n",
      "    \n",
      "    dist(p, q, /)\n",
      "        Return the Euclidean distance between two points p and q.\n",
      "        \n",
      "        The points should be specified as sequences (or iterables) of\n",
      "        coordinates.  Both inputs must have the same dimension.\n",
      "        \n",
      "        Roughly equivalent to:\n",
      "            sqrt(sum((px - qx) ** 2.0 for px, qx in zip(p, q)))\n",
      "    \n",
      "    erf(x, /)\n",
      "        Error function at x.\n",
      "    \n",
      "    erfc(x, /)\n",
      "        Complementary error function at x.\n",
      "    \n",
      "    exp(x, /)\n",
      "        Return e raised to the power of x.\n",
      "    \n",
      "    exp2(x, /)\n",
      "        Return 2 raised to the power of x.\n",
      "    \n",
      "    expm1(x, /)\n",
      "        Return exp(x)-1.\n",
      "        \n",
      "        This function avoids the loss of precision involved in the direct evaluation of exp(x)-1 for small x.\n",
      "    \n",
      "    fabs(x, /)\n",
      "        Return the absolute value of the float x.\n",
      "    \n",
      "    factorial(n, /)\n",
      "        Find n!.\n",
      "        \n",
      "        Raise a ValueError if x is negative or non-integral.\n",
      "    \n",
      "    floor(x, /)\n",
      "        Return the floor of x as an Integral.\n",
      "        \n",
      "        This is the largest integer <= x.\n",
      "    \n",
      "    fmod(x, y, /)\n",
      "        Return fmod(x, y), according to platform C.\n",
      "        \n",
      "        x % y may differ.\n",
      "    \n",
      "    frexp(x, /)\n",
      "        Return the mantissa and exponent of x, as pair (m, e).\n",
      "        \n",
      "        m is a float and e is an int, such that x = m * 2.**e.\n",
      "        If x is 0, m and e are both 0.  Else 0.5 <= abs(m) < 1.0.\n",
      "    \n",
      "    fsum(seq, /)\n",
      "        Return an accurate floating point sum of values in the iterable seq.\n",
      "        \n",
      "        Assumes IEEE-754 floating point arithmetic.\n",
      "    \n",
      "    gamma(x, /)\n",
      "        Gamma function at x.\n",
      "    \n",
      "    gcd(*integers)\n",
      "        Greatest Common Divisor.\n",
      "    \n",
      "    hypot(...)\n",
      "        hypot(*coordinates) -> value\n",
      "        \n",
      "        Multidimensional Euclidean distance from the origin to a point.\n",
      "        \n",
      "        Roughly equivalent to:\n",
      "            sqrt(sum(x**2 for x in coordinates))\n",
      "        \n",
      "        For a two dimensional point (x, y), gives the hypotenuse\n",
      "        using the Pythagorean theorem:  sqrt(x*x + y*y).\n",
      "        \n",
      "        For example, the hypotenuse of a 3/4/5 right triangle is:\n",
      "        \n",
      "            >>> hypot(3.0, 4.0)\n",
      "            5.0\n",
      "    \n",
      "    isclose(a, b, *, rel_tol=1e-09, abs_tol=0.0)\n",
      "        Determine whether two floating point numbers are close in value.\n",
      "        \n",
      "          rel_tol\n",
      "            maximum difference for being considered \"close\", relative to the\n",
      "            magnitude of the input values\n",
      "          abs_tol\n",
      "            maximum difference for being considered \"close\", regardless of the\n",
      "            magnitude of the input values\n",
      "        \n",
      "        Return True if a is close in value to b, and False otherwise.\n",
      "        \n",
      "        For the values to be considered close, the difference between them\n",
      "        must be smaller than at least one of the tolerances.\n",
      "        \n",
      "        -inf, inf and NaN behave similarly to the IEEE 754 Standard.  That\n",
      "        is, NaN is not close to anything, even itself.  inf and -inf are\n",
      "        only close to themselves.\n",
      "    \n",
      "    isfinite(x, /)\n",
      "        Return True if x is neither an infinity nor a NaN, and False otherwise.\n",
      "    \n",
      "    isinf(x, /)\n",
      "        Return True if x is a positive or negative infinity, and False otherwise.\n",
      "    \n",
      "    isnan(x, /)\n",
      "        Return True if x is a NaN (not a number), and False otherwise.\n",
      "    \n",
      "    isqrt(n, /)\n",
      "        Return the integer part of the square root of the input.\n",
      "    \n",
      "    lcm(*integers)\n",
      "        Least Common Multiple.\n",
      "    \n",
      "    ldexp(x, i, /)\n",
      "        Return x * (2**i).\n",
      "        \n",
      "        This is essentially the inverse of frexp().\n",
      "    \n",
      "    lgamma(x, /)\n",
      "        Natural logarithm of absolute value of Gamma function at x.\n",
      "    \n",
      "    log(...)\n",
      "        log(x, [base=math.e])\n",
      "        Return the logarithm of x to the given base.\n",
      "        \n",
      "        If the base not specified, returns the natural logarithm (base e) of x.\n",
      "    \n",
      "    log10(x, /)\n",
      "        Return the base 10 logarithm of x.\n",
      "    \n",
      "    log1p(x, /)\n",
      "        Return the natural logarithm of 1+x (base e).\n",
      "        \n",
      "        The result is computed in a way which is accurate for x near zero.\n",
      "    \n",
      "    log2(x, /)\n",
      "        Return the base 2 logarithm of x.\n",
      "    \n",
      "    modf(x, /)\n",
      "        Return the fractional and integer parts of x.\n",
      "        \n",
      "        Both results carry the sign of x and are floats.\n",
      "    \n",
      "    nextafter(x, y, /)\n",
      "        Return the next floating-point value after x towards y.\n",
      "    \n",
      "    perm(n, k=None, /)\n",
      "        Number of ways to choose k items from n items without repetition and with order.\n",
      "        \n",
      "        Evaluates to n! / (n - k)! when k <= n and evaluates\n",
      "        to zero when k > n.\n",
      "        \n",
      "        If k is not specified or is None, then k defaults to n\n",
      "        and the function returns n!.\n",
      "        \n",
      "        Raises TypeError if either of the arguments are not integers.\n",
      "        Raises ValueError if either of the arguments are negative.\n",
      "    \n",
      "    pow(x, y, /)\n",
      "        Return x**y (x to the power of y).\n",
      "    \n",
      "    prod(iterable, /, *, start=1)\n",
      "        Calculate the product of all the elements in the input iterable.\n",
      "        \n",
      "        The default start value for the product is 1.\n",
      "        \n",
      "        When the iterable is empty, return the start value.  This function is\n",
      "        intended specifically for use with numeric values and may reject\n",
      "        non-numeric types.\n",
      "    \n",
      "    radians(x, /)\n",
      "        Convert angle x from degrees to radians.\n",
      "    \n",
      "    remainder(x, y, /)\n",
      "        Difference between x and the closest integer multiple of y.\n",
      "        \n",
      "        Return x - n*y where n*y is the closest integer multiple of y.\n",
      "        In the case where x is exactly halfway between two multiples of\n",
      "        y, the nearest even value of n is used. The result is always exact.\n",
      "    \n",
      "    sin(x, /)\n",
      "        Return the sine of x (measured in radians).\n",
      "    \n",
      "    sinh(x, /)\n",
      "        Return the hyperbolic sine of x.\n",
      "    \n",
      "    sqrt(x, /)\n",
      "        Return the square root of x.\n",
      "    \n",
      "    tan(x, /)\n",
      "        Return the tangent of x (measured in radians).\n",
      "    \n",
      "    tanh(x, /)\n",
      "        Return the hyperbolic tangent of x.\n",
      "    \n",
      "    trunc(x, /)\n",
      "        Truncates the Real x to the nearest Integral toward 0.\n",
      "        \n",
      "        Uses the __trunc__ magic method.\n",
      "    \n",
      "    ulp(x, /)\n",
      "        Return the value of the least significant bit of the float x.\n",
      "\n",
      "DATA\n",
      "    e = 2.718281828459045\n",
      "    inf = inf\n",
      "    nan = nan\n",
      "    pi = 3.141592653589793\n",
      "    tau = 6.283185307179586\n",
      "\n",
      "FILE\n",
      "    (built-in)\n",
      "\n",
      "\n"
     ]
    }
   ],
   "source": [
    "help(math)"
   ]
  },
  {
   "cell_type": "code",
   "execution_count": 102,
   "id": "3fb0e83d-af63-4ac0-ac27-a1832f364207",
   "metadata": {},
   "outputs": [
    {
     "data": {
      "text/plain": [
       "4.795831523312719"
      ]
     },
     "execution_count": 102,
     "metadata": {},
     "output_type": "execute_result"
    }
   ],
   "source": [
    "math.sqrt(23)"
   ]
  },
  {
   "cell_type": "code",
   "execution_count": 104,
   "id": "4a92e7ea-7d99-4523-95cd-0c086f01c69c",
   "metadata": {},
   "outputs": [
    {
     "data": {
      "text/plain": [
       "0.8939966636005579"
      ]
     },
     "execution_count": 104,
     "metadata": {},
     "output_type": "execute_result"
    }
   ],
   "source": [
    "math.sin(90)"
   ]
  },
  {
   "cell_type": "code",
   "execution_count": 105,
   "id": "58f417e6-4fb3-4dda-87ce-6738f5e208db",
   "metadata": {},
   "outputs": [
    {
     "data": {
      "text/plain": [
       "0.15425144988758405"
      ]
     },
     "execution_count": 105,
     "metadata": {},
     "output_type": "execute_result"
    }
   ],
   "source": [
    "math.cos(30)"
   ]
  },
  {
   "cell_type": "code",
   "execution_count": 106,
   "id": "39f88bae-855c-4cbe-b954-93c27de6a8ac",
   "metadata": {},
   "outputs": [
    {
     "data": {
      "text/plain": [
       "-0.9524129804151563"
      ]
     },
     "execution_count": 106,
     "metadata": {},
     "output_type": "execute_result"
    }
   ],
   "source": [
    "math.cos(60)"
   ]
  },
  {
   "cell_type": "code",
   "execution_count": 107,
   "id": "761c91ad-83e6-4c3b-b9d5-101079a81fc6",
   "metadata": {},
   "outputs": [],
   "source": [
    "import math as m"
   ]
  },
  {
   "cell_type": "code",
   "execution_count": 108,
   "id": "d86d5237-fb7c-4553-b6ea-dceef8dcf9ed",
   "metadata": {},
   "outputs": [
    {
     "data": {
      "text/plain": [
       "4.795831523312719"
      ]
     },
     "execution_count": 108,
     "metadata": {},
     "output_type": "execute_result"
    }
   ],
   "source": [
    "m.sqrt(23)"
   ]
  },
  {
   "cell_type": "code",
   "execution_count": 109,
   "id": "18dddaf0-b879-43fc-9e0f-f4ba7fdfe8bf",
   "metadata": {},
   "outputs": [
    {
     "data": {
      "text/plain": [
       "0.6931471805599453"
      ]
     },
     "execution_count": 109,
     "metadata": {},
     "output_type": "execute_result"
    }
   ],
   "source": [
    "m.log(2)"
   ]
  },
  {
   "cell_type": "code",
   "execution_count": 110,
   "id": "04d5ab51-675a-499e-8a8b-ccc0c9388f87",
   "metadata": {},
   "outputs": [
    {
     "data": {
      "text/plain": [
       "0.8939966636005579"
      ]
     },
     "execution_count": 110,
     "metadata": {},
     "output_type": "execute_result"
    }
   ],
   "source": [
    "m.sin(90)"
   ]
  },
  {
   "cell_type": "code",
   "execution_count": 111,
   "id": "3f7d20f0-f87d-4005-a860-a7ab2c80631d",
   "metadata": {},
   "outputs": [],
   "source": [
    "from math import sqrt,pi"
   ]
  },
  {
   "cell_type": "code",
   "execution_count": 112,
   "id": "920e7c90-48d4-4090-b829-072fe5d4a943",
   "metadata": {},
   "outputs": [
    {
     "data": {
      "text/plain": [
       "3.4641016151377544"
      ]
     },
     "execution_count": 112,
     "metadata": {},
     "output_type": "execute_result"
    }
   ],
   "source": [
    "sqrt(12)"
   ]
  },
  {
   "cell_type": "code",
   "execution_count": 113,
   "id": "df69ba58-21ce-43bc-8011-d3b87057769e",
   "metadata": {},
   "outputs": [
    {
     "data": {
      "text/plain": [
       "3.141592653589793"
      ]
     },
     "execution_count": 113,
     "metadata": {},
     "output_type": "execute_result"
    }
   ],
   "source": [
    "pi"
   ]
  },
  {
   "cell_type": "code",
   "execution_count": null,
   "id": "3dd2a006-bbfe-45a5-a43d-03c25bf2ee61",
   "metadata": {},
   "outputs": [],
   "source": []
  }
 ],
 "metadata": {
  "kernelspec": {
   "display_name": "Python 3 (ipykernel)",
   "language": "python",
   "name": "python3"
  },
  "language_info": {
   "codemirror_mode": {
    "name": "ipython",
    "version": 3
   },
   "file_extension": ".py",
   "mimetype": "text/x-python",
   "name": "python",
   "nbconvert_exporter": "python",
   "pygments_lexer": "ipython3",
   "version": "3.11.7"
  }
 },
 "nbformat": 4,
 "nbformat_minor": 5
}
