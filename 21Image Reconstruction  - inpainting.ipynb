{
 "cells": [
  {
   "cell_type": "code",
   "execution_count": 1,
   "id": "cf4d8bfb-a831-43c9-8ba8-dcf596aeade7",
   "metadata": {},
   "outputs": [],
   "source": [
    "import numpy as np\n",
    "import matplotlib.pyplot as plt\n",
    "import cv2\n"
   ]
  },
  {
   "cell_type": "code",
   "execution_count": 3,
   "id": "4ae1e3a8-42d2-4555-9c13-ff6ba65400c4",
   "metadata": {},
   "outputs": [],
   "source": [
    "img = cv2.imread('images/cat_damaged.png')\n"
   ]
  },
  {
   "cell_type": "code",
   "execution_count": 4,
   "id": "f8d7a16b-3a12-4810-8633-8fdd43a426fa",
   "metadata": {},
   "outputs": [],
   "source": [
    "cv2.imshow('Damaged Image', img)\n",
    "cv2.waitKey(0)\n",
    "cv2.destroyAllWindows()"
   ]
  },
  {
   "cell_type": "code",
   "execution_count": 5,
   "id": "64a40e2f-d241-4cd0-9353-79deabdf03dd",
   "metadata": {},
   "outputs": [],
   "source": [
    "height, width = img.shape[:2]\n"
   ]
  },
  {
   "cell_type": "code",
   "execution_count": 6,
   "id": "6ba9fb98-aa9a-416a-9dd1-aa159e97bfe2",
   "metadata": {},
   "outputs": [
    {
     "data": {
      "text/plain": [
       "(400, 400)"
      ]
     },
     "execution_count": 6,
     "metadata": {},
     "output_type": "execute_result"
    }
   ],
   "source": [
    "height, width"
   ]
  },
  {
   "cell_type": "code",
   "execution_count": 7,
   "id": "5d68151f-da43-4908-9321-e6d1c327c314",
   "metadata": {},
   "outputs": [],
   "source": [
    "mask = np.zeros([height, width, 3], dtype=np.uint8)"
   ]
  },
  {
   "cell_type": "code",
   "execution_count": 14,
   "id": "51dd5db7-49d0-4417-8c02-f05bed97845b",
   "metadata": {},
   "outputs": [],
   "source": [
    "cv2.imshow('Mask', mask)\n",
    "cv2.waitKey(0)\n",
    "cv2.destroyAllWindows()"
   ]
  },
  {
   "cell_type": "code",
   "execution_count": 16,
   "id": "05728045-f12e-44c3-ab87-bcd04f86dbaa",
   "metadata": {},
   "outputs": [],
   "source": [
    "# Converting all pixels greater than zero to black hile black becomes white \n",
    "for i in range(height):\n",
    "    for j in range(width):\n",
    "        if img[i,j].sum() == 0:\n",
    "            mask[i,j] = [225, 225, 255]"
   ]
  },
  {
   "cell_type": "code",
   "execution_count": 17,
   "id": "0c6a972e-2657-4cfc-8260-2235c183b870",
   "metadata": {},
   "outputs": [],
   "source": [
    "cv2.imshow('Mask', mask)\n",
    "cv2.waitKey(0)\n",
    "cv2.destroyAllWindows()"
   ]
  },
  {
   "cell_type": "code",
   "execution_count": 18,
   "id": "17c78cc0-f310-486e-be15-c91e2dd9d540",
   "metadata": {},
   "outputs": [],
   "source": [
    "mask = cv2.cvtColor(mask, cv2.COLOR_BGR2GRAY)"
   ]
  },
  {
   "cell_type": "code",
   "execution_count": 19,
   "id": "0c8bcd64-cd3f-462f-b7cf-17fc7a3f332d",
   "metadata": {},
   "outputs": [],
   "source": [
    "# Inpaint.\n",
    "dst = cv2.inpaint(img, mask, 3, cv2.INPAINT_NS)"
   ]
  },
  {
   "cell_type": "code",
   "execution_count": 21,
   "id": "e261f595-0fe8-4801-99df-3bc78824e071",
   "metadata": {},
   "outputs": [],
   "source": [
    "cv2.imshow('Final Image', dst)\n",
    "cv2.waitKey(0)\n",
    "cv2.destroyAllWindows()"
   ]
  },
  {
   "cell_type": "code",
   "execution_count": null,
   "id": "a013561f-d6a7-4972-a708-62450e766a10",
   "metadata": {},
   "outputs": [],
   "source": []
  },
  {
   "cell_type": "code",
   "execution_count": null,
   "id": "486741a7-938f-43af-b701-7437346e9315",
   "metadata": {},
   "outputs": [],
   "source": []
  }
 ],
 "metadata": {
  "kernelspec": {
   "display_name": "Python 3 (ipykernel)",
   "language": "python",
   "name": "python3"
  },
  "language_info": {
   "codemirror_mode": {
    "name": "ipython",
    "version": 3
   },
   "file_extension": ".py",
   "mimetype": "text/x-python",
   "name": "python",
   "nbconvert_exporter": "python",
   "pygments_lexer": "ipython3",
   "version": "3.11.7"
  }
 },
 "nbformat": 4,
 "nbformat_minor": 5
}
