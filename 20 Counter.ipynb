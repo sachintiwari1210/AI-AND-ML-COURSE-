{
 "cells": [
  {
   "cell_type": "code",
   "execution_count": 3,
   "id": "1f26a9a5-dad7-422b-9b49-f0ad249ebbbd",
   "metadata": {},
   "outputs": [],
   "source": [
    "import cv2\n",
    "\n",
    "# Load the image\n",
    "img = cv2.imread('images/circle.png', 0)\n",
    "\n",
    "# Creates a binary image where pixels about 127 are set to 255 (white),\n",
    "# and others to 0 (block).\n",
    "thresh =  cv2.threshold(img, 127, 255, cv2.THRESH_BINARY)[1]\n",
    "\n",
    "# cv2.findCounters find counters in the binar image.\n",
    "# cv2.RETR_TREE retrieves all contours and creates a heirarchy tree.\n",
    "# cv2.CHAIN_APPROX_SIMPLE approximates contours to save memory.\n",
    "contours, hierarchy = cv2.findContours(thresh, cv2.RETR_TREE,\n",
    "                                       cv2.CHAIN_APPROX_SIMPLE)\n",
    "# -1 draws all contours.\n",
    "# (0, 255, 0) is the color (green).\n",
    "# 2 is the thickness of the lines.\n",
    "cv2.drawContours(img, contours, -1, (0, 255, 0), 2) # Draw all contours in \n",
    "\n",
    "# Display results \n",
    "cv2.imshow('Original Image', img)\n",
    "cv2.imshow('Thresholded Image', thresh)\n",
    "cv2.waitKey(0)\n",
    "cv2.destroyAllWindows()"
   ]
  },
  {
   "cell_type": "code",
   "execution_count": 5,
   "id": "0f76bd14-86fc-4e38-aa22-667a6b2c79e0",
   "metadata": {},
   "outputs": [],
   "source": [
    "import cv2\n",
    "\n",
    "# Load the image\n",
    "img = cv2.imread('images/buildings.jpg', 0)\n",
    "\n",
    "# Creates a binary image where pixels about 127 are set to 255 (white),\n",
    "# and others to 0 (block).\n",
    "thresh =  cv2.threshold(img, 127, 255, cv2.THRESH_BINARY)[1]\n",
    "\n",
    "# cv2.findCounters find counters in the binar image.\n",
    "# cv2.RETR_TREE retrieves all contours and creates a heirarchy tree.\n",
    "# cv2.CHAIN_APPROX_SIMPLE approximates contours to save memory.\n",
    "contours, hierarchy = cv2.findContours(thresh, cv2.RETR_TREE,\n",
    "                                       cv2.CHAIN_APPROX_SIMPLE)\n",
    "# -1 draws all contours.\n",
    "# (0, 255, 0) is the color (green).\n",
    "# 2 is the thickness of the lines.\n",
    "cv2.drawContours(img, contours, -1, (0, 255, 0), 2) # Draw all contours in \n",
    "\n",
    "# Display results \n",
    "cv2.imshow('Original Image', img)\n",
    "cv2.imshow('Thresholded Image', thresh)\n",
    "cv2.waitKey(0)\n",
    "cv2.destroyAllWindows()"
   ]
  },
  {
   "cell_type": "code",
   "execution_count": null,
   "id": "9ea68785-0f8f-446f-9c12-75a8a3467f6a",
   "metadata": {},
   "outputs": [],
   "source": [
    "import cv2\n",
    "\n",
    "# Load the image\n",
    "img = cv2.imread('images/circle.png')\n",
    "gray = cv2.cvtColor(img, cv2.COLOR_BGR2GRAY)\n",
    "\n",
    "# Creates a binary image where pixels about 127 are set to 255 (white),\n",
    "# and others to 0 (block).\n",
    "thresh =  cv2.threshold(gray, 127, 255, cv2.THRESH_BINARY)[1]\n",
    "\n",
    "# cv2.findCounters find counters in the binar image.\n",
    "# cv2.RETR_TREE retrieves all contours and creates a heirarchy tree.\n",
    "# cv2.CHAIN_APPROX_SIMPLE approximates contours to save memory.\n",
    "contours, hierarchy = cv2.findContours(thresh, cv2.RETR_TREE,\n",
    "                                       cv2.CHAIN_APPROX_SIMPLE)\n",
    "# -1 draws all contours.\n",
    "# (0, 255, 0) is the color (green).\n",
    "# 2 is the thickness of the lines.\n",
    "cv2.drawContours(img, contours, -1, (0, 255, 0), 2) # Draw all contours in \n",
    "\n",
    "# Display results \n",
    "cv2.imshow('Original Image', img)\n",
    "cv2.imshow('Thresholded Image', thresh)\n",
    "cv2.waitKey(0)\n",
    "cv2.destroyAllWindows()"
   ]
  },
  {
   "cell_type": "code",
   "execution_count": null,
   "id": "e82dd0ed-5b84-4c8d-aacf-467a86a2052f",
   "metadata": {},
   "outputs": [],
   "source": []
  },
  {
   "cell_type": "code",
   "execution_count": null,
   "id": "f7690a54-bb45-4ea4-8e45-3bf8ca8e1865",
   "metadata": {},
   "outputs": [],
   "source": []
  }
 ],
 "metadata": {
  "kernelspec": {
   "display_name": "Python 3 (ipykernel)",
   "language": "python",
   "name": "python3"
  },
  "language_info": {
   "codemirror_mode": {
    "name": "ipython",
    "version": 3
   },
   "file_extension": ".py",
   "mimetype": "text/x-python",
   "name": "python",
   "nbconvert_exporter": "python",
   "pygments_lexer": "ipython3",
   "version": "3.11.7"
  }
 },
 "nbformat": 4,
 "nbformat_minor": 5
}
