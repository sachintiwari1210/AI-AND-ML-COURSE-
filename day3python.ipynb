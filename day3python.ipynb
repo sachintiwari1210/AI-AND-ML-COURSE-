{
 "cells": [
  {
   "cell_type": "code",
   "execution_count": 1,
   "id": "59ccc7c0-ff67-43d8-b555-e8a0119650e9",
   "metadata": {},
   "outputs": [
    {
     "name": "stdout",
     "output_type": "stream",
     "text": [
      "Hellow world\n"
     ]
    }
   ],
   "source": [
    "print(\"Hellow world\")"
   ]
  },
  {
   "cell_type": "code",
   "execution_count": 2,
   "id": "59012125-71e6-49c4-84a9-7c5d3426c0dc",
   "metadata": {},
   "outputs": [
    {
     "data": {
      "text/plain": [
       "2"
      ]
     },
     "execution_count": 2,
     "metadata": {},
     "output_type": "execute_result"
    }
   ],
   "source": [
    ">>> 1 + 1"
   ]
  },
  {
   "cell_type": "code",
   "execution_count": 8,
   "id": "1eb2bbe1-ea63-4a9c-802a-83ede0543b93",
   "metadata": {},
   "outputs": [],
   "source": [
    "greetings = \"Hellow sachin\""
   ]
  },
  {
   "cell_type": "code",
   "execution_count": 9,
   "id": "f615f727-2ac4-411a-90f7-7d6f42a74b75",
   "metadata": {},
   "outputs": [
    {
     "name": "stdout",
     "output_type": "stream",
     "text": [
      "Hellow sachin\n"
     ]
    }
   ],
   "source": [
    ">>> print(greetings)"
   ]
  },
  {
   "cell_type": "code",
   "execution_count": 10,
   "id": "d02e5073-b55f-4c6e-8bd4-98cded66d1a5",
   "metadata": {},
   "outputs": [],
   "source": [
    "meetings = \"Hellow world\""
   ]
  },
  {
   "cell_type": "code",
   "execution_count": 12,
   "id": "94e6c295-1445-4099-8053-0c282c002033",
   "metadata": {},
   "outputs": [
    {
     "name": "stdout",
     "output_type": "stream",
     "text": [
      "Hellow world\n"
     ]
    }
   ],
   "source": [
    ">>> print(meetings)"
   ]
  },
  {
   "cell_type": "code",
   "execution_count": null,
   "id": "c93900c5-b80f-4f53-927b-1fe464e0b7be",
   "metadata": {},
   "outputs": [],
   "source": []
  }
 ],
 "metadata": {
  "kernelspec": {
   "display_name": "Python 3 (ipykernel)",
   "language": "python",
   "name": "python3"
  },
  "language_info": {
   "codemirror_mode": {
    "name": "ipython",
    "version": 3
   },
   "file_extension": ".py",
   "mimetype": "text/x-python",
   "name": "python",
   "nbconvert_exporter": "python",
   "pygments_lexer": "ipython3",
   "version": "3.11.7"
  }
 },
 "nbformat": 4,
 "nbformat_minor": 5
}
